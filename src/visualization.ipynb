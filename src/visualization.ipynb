{
 "cells": [
  {
   "cell_type": "code",
   "execution_count": 4,
   "metadata": {},
   "outputs": [
    {
     "ename": "ModuleNotFoundError",
     "evalue": "No module named 'numpy'",
     "output_type": "error",
     "traceback": [
      "\u001b[1;31m---------------------------------------------------------------------------\u001b[0m",
      "\u001b[1;31mModuleNotFoundError\u001b[0m                       Traceback (most recent call last)",
      "\u001b[1;32mc:\\Users\\nelse\\Documents\\Coolyeah Nelsen\\Semester 4\\Stima K-01\\Tucil Stima 2\\IF2211-convexHull\\src\\visualization.ipynb Cell 1'\u001b[0m in \u001b[0;36m<cell line: 2>\u001b[1;34m()\u001b[0m\n\u001b[0;32m      <a href='vscode-notebook-cell:/c%3A/Users/nelse/Documents/Coolyeah%20Nelsen/Semester%204/Stima%20K-01/Tucil%20Stima%202/IF2211-convexHull/src/visualization.ipynb#ch0000000?line=0'>1</a>\u001b[0m \u001b[39m# Dataset 1: load_iris\u001b[39;00m\n\u001b[1;32m----> <a href='vscode-notebook-cell:/c%3A/Users/nelse/Documents/Coolyeah%20Nelsen/Semester%204/Stima%20K-01/Tucil%20Stima%202/IF2211-convexHull/src/visualization.ipynb#ch0000000?line=1'>2</a>\u001b[0m \u001b[39mimport\u001b[39;00m \u001b[39mnumpy\u001b[39;00m \u001b[39mas\u001b[39;00m \u001b[39mnp\u001b[39;00m\n\u001b[0;32m      <a href='vscode-notebook-cell:/c%3A/Users/nelse/Documents/Coolyeah%20Nelsen/Semester%204/Stima%20K-01/Tucil%20Stima%202/IF2211-convexHull/src/visualization.ipynb#ch0000000?line=2'>3</a>\u001b[0m \u001b[39mimport\u001b[39;00m \u001b[39mpandas\u001b[39;00m \u001b[39mas\u001b[39;00m \u001b[39mpd\u001b[39;00m\n\u001b[0;32m      <a href='vscode-notebook-cell:/c%3A/Users/nelse/Documents/Coolyeah%20Nelsen/Semester%204/Stima%20K-01/Tucil%20Stima%202/IF2211-convexHull/src/visualization.ipynb#ch0000000?line=3'>4</a>\u001b[0m \u001b[39mimport\u001b[39;00m \u001b[39mmatplotlib\u001b[39;00m\u001b[39m.\u001b[39;00m\u001b[39mpyplot\u001b[39;00m \u001b[39mas\u001b[39;00m \u001b[39mplt\u001b[39;00m\n",
      "\u001b[1;31mModuleNotFoundError\u001b[0m: No module named 'numpy'"
     ]
    }
   ],
   "source": [
    "# Dataset 1: load_iris\n",
    "import numpy as np\n",
    "import pandas as pd\n",
    "import matplotlib.pyplot as plt\n",
    "from sklearn import datasets\n",
    "data = datasets.load_iris()\n",
    "df = pd.DataFrame(data.data, columns = data.feature_names)\n",
    "df['Target'] = pd.DataFrame(data.target)\n",
    "print(df.shape)\n",
    "df.head()"
   ]
  },
  {
   "cell_type": "code",
   "execution_count": null,
   "metadata": {},
   "outputs": [],
   "source": [
    "# Visualisasi Convex Hull dengan Library Python\n",
    "import matplotlib.pyplot as plt\n",
    "from scipy.spatial import ConvexHull\n",
    "plt.figure(figsize = (10, 6))\n",
    "colors = ['b','r','g']\n",
    "plt.title('Library Spicy')\n",
    "plt.xlabel(data.feature_names[0])\n",
    "plt.ylabel(data.feature_names[1])\n",
    "for i in range(len(data.target_names)):\n",
    "    bucket = df[df['Target'] == i]\n",
    "    bucket = bucket.iloc[:, [0,1]].values\n",
    "    hull = ConvexHull(bucket)\n",
    "    plt.scatter(bucket[:, 0], bucket[:, 1], label = data.target_names[i])\n",
    "    print(hull.simplices)\n",
    "    for simplex in hull.simplices:\n",
    "        plt.plot(bucket[simplex, 0], bucket[simplex, 1], colors[i])\n",
    "plt.legend()"
   ]
  },
  {
   "cell_type": "code",
   "execution_count": null,
   "metadata": {},
   "outputs": [],
   "source": [
    "# Visualisasi Convex Hull dengan Library myConvexHull\n",
    "import matplotlib.pyplot as plt\n",
    "from myConvexHull import myConvexHull\n",
    "plt.figure(figsize = (10, 6))\n",
    "colors = ['c','y','m']\n",
    "plt.title('Library myConvexHull')\n",
    "plt.xlabel(data.feature_names[0])\n",
    "plt.ylabel(data.feature_names[1])\n",
    "for i in range(len(data.target_names)):\n",
    "    bucket = df[df['Target'] == i]\n",
    "    bucket = bucket.iloc[:, [0,1]].values\n",
    "    hull = myConvexHull(bucket)\n",
    "    plt.scatter(bucket[:, 0], bucket[:, 1], label = data.target_names[i])\n",
    "    print(hull)\n",
    "    for simplex in hull:\n",
    "        plt.plot(bucket[simplex, 0], bucket[simplex, 1], colors[i])\n",
    "plt.legend()"
   ]
  },
  {
   "cell_type": "code",
   "execution_count": null,
   "metadata": {},
   "outputs": [],
   "source": [
    "# Visualisasi Convex Hull dengan Library Python\n",
    "import matplotlib.pyplot as plt\n",
    "from scipy.spatial import ConvexHull\n",
    "plt.figure(figsize = (10, 6))\n",
    "colors = ['b','r','g']\n",
    "plt.title('Library Spicy')\n",
    "plt.xlabel(data.feature_names[2])\n",
    "plt.ylabel(data.feature_names[3])\n",
    "for i in range(len(data.target_names)):\n",
    "    bucket = df[df['Target'] == i]\n",
    "    bucket = bucket.iloc[:, [2,3]].values\n",
    "    hull = ConvexHull(bucket)\n",
    "    plt.scatter(bucket[:, 0], bucket[:, 1], label = data.target_names[i])\n",
    "    print(hull.simplices)\n",
    "    for simplex in hull.simplices:\n",
    "        plt.plot(bucket[simplex, 0], bucket[simplex, 1], colors[i])\n",
    "plt.legend()"
   ]
  },
  {
   "cell_type": "code",
   "execution_count": null,
   "metadata": {},
   "outputs": [],
   "source": [
    "# Visualisasi Convex Hull dengan Library myConvexHull\n",
    "import matplotlib.pyplot as plt\n",
    "from myConvexHull import myConvexHull\n",
    "plt.figure(figsize = (10, 6))\n",
    "colors = ['c','y','m']\n",
    "plt.title('Library myConvexHull')\n",
    "plt.xlabel(data.feature_names[2])\n",
    "plt.ylabel(data.feature_names[3])\n",
    "for i in range(len(data.target_names)):\n",
    "    bucket = df[df['Target'] == i]\n",
    "    bucket = bucket.iloc[:, [2,3]].values\n",
    "    hull = myConvexHull(bucket)\n",
    "    plt.scatter(bucket[:, 0], bucket[:, 1], label = data.target_names[i])\n",
    "    print(hull)\n",
    "    for simplex in hull:\n",
    "        plt.plot(bucket[simplex, 0], bucket[simplex, 1], colors[i])\n",
    "plt.legend()"
   ]
  },
  {
   "cell_type": "code",
   "execution_count": null,
   "metadata": {},
   "outputs": [],
   "source": [
    "# Dataset 2: load_breast_cancer\n",
    "import numpy as np\n",
    "import pandas as pd\n",
    "import matplotlib.pyplot as plt\n",
    "from sklearn import datasets\n",
    "data = datasets.load_breast_cancer()\n",
    "df = pd.DataFrame(data.data, columns=data.feature_names)\n",
    "df['Target'] = pd.DataFrame(data.target)\n",
    "print(df.shape)\n",
    "df.head()"
   ]
  },
  {
   "cell_type": "code",
   "execution_count": null,
   "metadata": {},
   "outputs": [],
   "source": [
    "# Visualisasi Convex Hull dengan Library Python\n",
    "import matplotlib.pyplot as plt\n",
    "from scipy.spatial import ConvexHull\n",
    "plt.figure(figsize = (10, 6))\n",
    "colors = ['b','r','g']\n",
    "plt.title('Library Spicy')\n",
    "plt.xlabel(data.feature_names[8])\n",
    "plt.ylabel(data.feature_names[28])\n",
    "for i in range(len(data.target_names)):\n",
    "    bucket = df[df['Target'] == i]\n",
    "    bucket = bucket.iloc[:, [8,28]].values\n",
    "    hull = ConvexHull(bucket)\n",
    "    plt.scatter(bucket[:, 0], bucket[:, 1], label = data.target_names[i])\n",
    "    print(hull.simplices)\n",
    "    for simplex in hull.simplices:\n",
    "        plt.plot(bucket[simplex, 0], bucket[simplex, 1], colors[i])\n",
    "plt.legend()"
   ]
  },
  {
   "cell_type": "code",
   "execution_count": null,
   "metadata": {},
   "outputs": [],
   "source": [
    "# Visualisasi Convex Hull dengan Library myConvexHull\n",
    "import matplotlib.pyplot as plt\n",
    "from myConvexHull import myConvexHull\n",
    "plt.figure(figsize = (10, 6))\n",
    "colors = ['c','y','m']\n",
    "plt.title('Library myConvexHull')\n",
    "plt.xlabel(data.feature_names[8])\n",
    "plt.ylabel(data.feature_names[28])\n",
    "for i in range(len(data.target_names)):\n",
    "    bucket = df[df['Target'] == i]\n",
    "    bucket = bucket.iloc[:, [8,28]].values\n",
    "    hull = myConvexHull(bucket)\n",
    "    plt.scatter(bucket[:, 0], bucket[:, 1], label = data.target_names[i])\n",
    "    print(hull)\n",
    "    for simplex in hull:\n",
    "        plt.plot(bucket[simplex, 0], bucket[simplex, 1], colors[i])\n",
    "plt.legend()"
   ]
  },
  {
   "cell_type": "code",
   "execution_count": null,
   "metadata": {},
   "outputs": [],
   "source": [
    "# Dataset 3: load_digits\n",
    "import numpy as np\n",
    "import pandas as pd\n",
    "import matplotlib.pyplot as plt\n",
    "from sklearn import datasets\n",
    "data = datasets.load_digits()\n",
    "df = pd.DataFrame(data.data, columns = data.feature_names)\n",
    "df['Target'] = pd.DataFrame(data.target)\n",
    "print(df.shape)\n",
    "df.head()"
   ]
  },
  {
   "cell_type": "code",
   "execution_count": null,
   "metadata": {},
   "outputs": [],
   "source": [
    "# Visualisasi Convex Hull dengan Library Python\n",
    "import matplotlib.pyplot as plt\n",
    "from scipy.spatial import ConvexHull\n",
    "plt.figure(figsize = (10, 6))\n",
    "colors = ['b','r','g','c','m','y','k','w','b','r','g','c']\n",
    "plt.title('Library Spicy')\n",
    "plt.xlabel(data.feature_names[3])\n",
    "plt.ylabel(data.feature_names[4])\n",
    "for i in range(len(data.target_names)):\n",
    "    bucket = df[df['Target'] == i]\n",
    "    bucket = bucket.iloc[:, [3,4]].values\n",
    "    hull = ConvexHull(bucket)\n",
    "    plt.scatter(bucket[:, 0], bucket[:, 1], label = data.target_names[i])\n",
    "    print(hull.simplices)\n",
    "    for simplex in hull.simplices:\n",
    "        plt.plot(bucket[simplex, 0], bucket[simplex, 1], colors[i])\n",
    "plt.legend()"
   ]
  },
  {
   "cell_type": "code",
   "execution_count": null,
   "metadata": {},
   "outputs": [],
   "source": [
    "# Visualisasi Convex Hull dengan Library myConvexHull\n",
    "import matplotlib.pyplot as plt\n",
    "from myConvexHull import myConvexHull\n",
    "plt.figure(figsize = (10, 6))\n",
    "colors = ['k','g','b','r','g','c','b','r','w','c','m','y']\n",
    "plt.title('Library myConvexHull')\n",
    "plt.xlabel(data.feature_names[3])\n",
    "plt.ylabel(data.feature_names[4])\n",
    "for i in range(len(data.target_names)):\n",
    "    bucket = df[df['Target'] == i]\n",
    "    bucket = bucket.iloc[:, [3,4]].values\n",
    "    hull = myConvexHull(bucket)\n",
    "    plt.scatter(bucket[:, 0], bucket[:, 1], label = data.target_names[i])\n",
    "    print(hull)\n",
    "    for simplex in hull:\n",
    "        plt.plot(bucket[simplex, 0], bucket[simplex, 1], colors[i])\n",
    "plt.legend()"
   ]
  },
  {
   "cell_type": "code",
   "execution_count": null,
   "metadata": {},
   "outputs": [],
   "source": [
    "# Dataset ke 4: load_wine\n",
    "import numpy as np\n",
    "import pandas as pd\n",
    "import matplotlib.pyplot as plt\n",
    "from sklearn import datasets\n",
    "data = datasets.load_wine()\n",
    "df = pd.DataFrame(data.data, columns = data.feature_names)\n",
    "df['Target'] = pd.DataFrame(data.target)\n",
    "print(df.shape)\n",
    "df.head()"
   ]
  },
  {
   "cell_type": "code",
   "execution_count": null,
   "metadata": {},
   "outputs": [],
   "source": [
    "# Visualisasi Convex Hull dengan Library Python\n",
    "import matplotlib.pyplot as plt\n",
    "from scipy.spatial import ConvexHull\n",
    "plt.figure(figsize = (10, 6))\n",
    "colors = ['b','r','g','c','m','y','k','w','b','r','g','c']\n",
    "plt.title('Library Spicy')\n",
    "plt.xlabel(data.feature_names[0])\n",
    "plt.ylabel(data.feature_names[1])\n",
    "for i in range(len(data.target_names)):\n",
    "    bucket = df[df['Target'] == i]\n",
    "    bucket = bucket.iloc[:, [0,1]].values\n",
    "    hull = ConvexHull(bucket)\n",
    "    plt.scatter(bucket[:, 0], bucket[:, 1], label = data.target_names[i])\n",
    "    print(hull.simplices)\n",
    "    for simplex in hull.simplices:\n",
    "        plt.plot(bucket[simplex, 0], bucket[simplex, 1], colors[i])\n",
    "plt.legend()"
   ]
  },
  {
   "cell_type": "code",
   "execution_count": null,
   "metadata": {},
   "outputs": [],
   "source": [
    "# Visualisasi Convex Hull dengan Library myConvexHull\n",
    "import matplotlib.pyplot as plt\n",
    "from myConvexHull import myConvexHull\n",
    "plt.figure(figsize = (10, 6))\n",
    "colors = ['k','g','b','r','g','c','b','r','w','c','m','y']\n",
    "plt.title('Library myConvexHull')\n",
    "plt.xlabel(data.feature_names[0])\n",
    "plt.ylabel(data.feature_names[1])\n",
    "for i in range(len(data.target_names)):\n",
    "    bucket = df[df['Target'] == i]\n",
    "    bucket = bucket.iloc[:, [0,1]].values\n",
    "    hull = myConvexHull(bucket)\n",
    "    plt.scatter(bucket[:, 0], bucket[:, 1], label = data.target_names[i])\n",
    "    print(hull)\n",
    "    for simplex in hull:\n",
    "        plt.plot(bucket[simplex, 0], bucket[simplex, 1], colors[i])\n",
    "plt.legend()"
   ]
  }
 ],
 "metadata": {
  "interpreter": {
   "hash": "abcda608de341e39dbf588fcc25dda084c3f02baa4f745233cbfc9d45b1fdeef"
  },
  "kernelspec": {
   "display_name": "Python 3.9.0 64-bit",
   "language": "python",
   "name": "python3"
  },
  "language_info": {
   "codemirror_mode": {
    "name": "ipython",
    "version": 3
   },
   "file_extension": ".py",
   "mimetype": "text/x-python",
   "name": "python",
   "nbconvert_exporter": "python",
   "pygments_lexer": "ipython3",
   "version": "3.9.0"
  },
  "orig_nbformat": 4
 },
 "nbformat": 4,
 "nbformat_minor": 2
}
